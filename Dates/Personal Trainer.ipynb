{
 "cells": [
  {
   "cell_type": "code",
   "execution_count": 1,
   "metadata": {},
   "outputs": [],
   "source": [
    "from datetime import date\n",
    "from calendar import day_abbr, monthrange\n",
    "\n",
    "\n",
    "def month_wkdy(month, days_string='MTWRFSU', year=2019):\n",
    "    wkday_map = {\n",
    "        'M': 0,\n",
    "        'T': 1,\n",
    "        'W': 2,\n",
    "        'R': 3, \n",
    "        'F': 4, \n",
    "        'S': 5,\n",
    "        'U': 6\n",
    "    }\n",
    "    \n",
    "    days = sorted([wkday_map[day] for day in days_string])\n",
    "    \n",
    "    names = [day_abbr[i] for i in days]\n",
    "    \n",
    "    name = date(year, month, 1).strftime('%B, %Y (' + ', '.join(names) + ')')\n",
    "    \n",
    "    cards = []\n",
    "    for i in range(monthrange(2019, month)[1]):\n",
    "        day = date(2019, month, i+1)\n",
    "        if day.weekday() not in days:\n",
    "            continue\n",
    "        date_string = day.strftime('%B %d, %Y')\n",
    "        day_string = day.strftime('%A')\n",
    "        cards.append([date_string, day_string])\n",
    "        \n",
    "    return cards\n",
    "\n",
    "def aug_wkdy(days_string):\n",
    "    return month_wkdy(8, days_string)\n",
    "\n",
    "def sept_wkdy(days_string):\n",
    "    return month_wkdy(9, days_string)"
   ]
  },
  {
   "cell_type": "code",
   "execution_count": 5,
   "metadata": {},
   "outputs": [],
   "source": [
    "import random\n",
    "\n",
    "def train(cards):\n",
    "    while True:\n",
    "        date, day = random.choice(cards)\n",
    "        if input(date):\n",
    "            break\n",
    "        if input(day):\n",
    "            break\n",
    "        print()\n",
    "\n",
    "    "
   ]
  },
  {
   "cell_type": "code",
   "execution_count": null,
   "metadata": {},
   "outputs": [
    {
     "name": "stdout",
     "output_type": "stream",
     "text": [
      "September 05, 2019\n",
      "Thursday\n",
      "\n",
      "September 05, 2019\n"
     ]
    }
   ],
   "source": [
    "train(sept_wkdy('MR'))"
   ]
  },
  {
   "cell_type": "code",
   "execution_count": null,
   "metadata": {},
   "outputs": [],
   "source": []
  }
 ],
 "metadata": {
  "kernelspec": {
   "display_name": "Python 3",
   "language": "python",
   "name": "python3"
  },
  "language_info": {
   "codemirror_mode": {
    "name": "ipython",
    "version": 3
   },
   "file_extension": ".py",
   "mimetype": "text/x-python",
   "name": "python",
   "nbconvert_exporter": "python",
   "pygments_lexer": "ipython3",
   "version": "3.7.3"
  }
 },
 "nbformat": 4,
 "nbformat_minor": 2
}
