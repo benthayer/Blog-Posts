{
 "cells": [
  {
   "cell_type": "code",
   "execution_count": 30,
   "metadata": {},
   "outputs": [],
   "source": [
    "from datetime import datetime\n",
    "from calendar import day_abbr"
   ]
  },
  {
   "cell_type": "code",
   "execution_count": 44,
   "metadata": {},
   "outputs": [
    {
     "data": {
      "text/plain": [
       "6"
      ]
     },
     "execution_count": 44,
     "metadata": {},
     "output_type": "execute_result"
    }
   ],
   "source": [
    "datetime(2099, 1, 4).weekday()"
   ]
  },
  {
   "cell_type": "code",
   "execution_count": 47,
   "metadata": {},
   "outputs": [
    {
     "data": {
      "text/plain": [
       "[0, 28, 56, 84]"
      ]
     },
     "execution_count": 47,
     "metadata": {},
     "output_type": "execute_result"
    }
   ],
   "source": [
    "[i * 28 for i in range(4)]"
   ]
  },
  {
   "cell_type": "code",
   "execution_count": 56,
   "metadata": {},
   "outputs": [
    {
     "name": "stdout",
     "output_type": "stream",
     "text": [
      "73\n",
      "15\n",
      "76\n",
      "71\n",
      "26\n",
      "5\n",
      "41\n",
      "17\n",
      "13\n",
      "75\n",
      "92\n",
      "91\n",
      "9\n",
      "52\n",
      "57\n",
      "67\n",
      "32\n",
      "47\n",
      "82\n",
      "89\n"
     ]
    }
   ],
   "source": [
    "import random\n",
    "for i in range(20):\n",
    "    print(random.randint(0, 99))"
   ]
  },
  {
   "cell_type": "code",
   "execution_count": 59,
   "metadata": {},
   "outputs": [
    {
     "name": "stdout",
     "output_type": "stream",
     "text": [
      "1\n",
      "5\n",
      "5\n",
      "5\n",
      "5\n",
      "0\n",
      "3\n",
      "1\n",
      "3\n",
      "3\n",
      "4\n",
      "2\n",
      "5\n",
      "3\n",
      "2\n",
      "0\n",
      "6\n",
      "3\n",
      "5\n",
      "0\n"
     ]
    }
   ],
   "source": [
    "x = [\n",
    "    73,\n",
    "    15,\n",
    "    76,\n",
    "    71,\n",
    "    26,\n",
    "    5,\n",
    "    41,\n",
    "    17,\n",
    "    13,\n",
    "    75,\n",
    "    92,\n",
    "    91,\n",
    "    9,\n",
    "    52,\n",
    "    57,\n",
    "    67,\n",
    "    32,\n",
    "    47,\n",
    "    82,\n",
    "    89\n",
    "]\n",
    "for y in x:\n",
    "    print(datetime(2000 + y, 7, 11).weekday())"
   ]
  },
  {
   "cell_type": "code",
   "execution_count": 42,
   "metadata": {},
   "outputs": [
    {
     "name": "stdout",
     "output_type": "stream",
     "text": [
      "2000: Sat Tue Wed Sat Mon Thu Sat Tue Fri Sun Wed Fri \n",
      "2001: Mon Thu Thu Sun Tue Fri Sun Wed Sat Mon Thu Sat \n",
      "2002: Tue Fri Fri Mon Wed Sat Mon Thu Sun Tue Fri Sun \n",
      "2003: Wed Sat Sat Tue Thu Sun Tue Fri Mon Wed Sat Mon \n",
      "2004: Thu Sun Mon Thu Sat Tue Thu Sun Wed Fri Mon Wed \n",
      "2005: Sat Tue Tue Fri Sun Wed Fri Mon Thu Sat Tue Thu \n",
      "2006: Sun Wed Wed Sat Mon Thu Sat Tue Fri Sun Wed Fri \n",
      "2007: Mon Thu Thu Sun Tue Fri Sun Wed Sat Mon Thu Sat \n",
      "2008: Tue Fri Sat Tue Thu Sun Tue Fri Mon Wed Sat Mon \n",
      "2009: Thu Sun Sun Wed Fri Mon Wed Sat Tue Thu Sun Tue \n",
      "2010: Fri Mon Mon Thu Sat Tue Thu Sun Wed Fri Mon Wed \n",
      "2011: Sat Tue Tue Fri Sun Wed Fri Mon Thu Sat Tue Thu \n",
      "2012: Sun Wed Thu Sun Tue Fri Sun Wed Sat Mon Thu Sat \n",
      "2013: Tue Fri Fri Mon Wed Sat Mon Thu Sun Tue Fri Sun \n",
      "2014: Wed Sat Sat Tue Thu Sun Tue Fri Mon Wed Sat Mon \n",
      "2015: Thu Sun Sun Wed Fri Mon Wed Sat Tue Thu Sun Tue \n",
      "2016: Fri Mon Tue Fri Sun Wed Fri Mon Thu Sat Tue Thu \n",
      "2017: Sun Wed Wed Sat Mon Thu Sat Tue Fri Sun Wed Fri \n",
      "2018: Mon Thu Thu Sun Tue Fri Sun Wed Sat Mon Thu Sat \n",
      "2019: Tue Fri Fri Mon Wed Sat Mon Thu Sun Tue Fri Sun \n",
      "2020: Wed Sat Sun Wed Fri Mon Wed Sat Tue Thu Sun Tue \n",
      "2021: Fri Mon Mon Thu Sat Tue Thu Sun Wed Fri Mon Wed \n",
      "2022: Sat Tue Tue Fri Sun Wed Fri Mon Thu Sat Tue Thu \n",
      "2023: Sun Wed Wed Sat Mon Thu Sat Tue Fri Sun Wed Fri \n",
      "2024: Mon Thu Fri Mon Wed Sat Mon Thu Sun Tue Fri Sun \n",
      "2025: Wed Sat Sat Tue Thu Sun Tue Fri Mon Wed Sat Mon \n",
      "2026: Thu Sun Sun Wed Fri Mon Wed Sat Tue Thu Sun Tue \n",
      "2027: Fri Mon Mon Thu Sat Tue Thu Sun Wed Fri Mon Wed \n",
      "2028: Sat Tue Wed Sat Mon Thu Sat Tue Fri Sun Wed Fri \n",
      "2029: Mon Thu Thu Sun Tue Fri Sun Wed Sat Mon Thu Sat \n",
      "2030: Tue Fri Fri Mon Wed Sat Mon Thu Sun Tue Fri Sun \n",
      "2031: Wed Sat Sat Tue Thu Sun Tue Fri Mon Wed Sat Mon \n",
      "2032: Thu Sun Mon Thu Sat Tue Thu Sun Wed Fri Mon Wed \n",
      "2033: Sat Tue Tue Fri Sun Wed Fri Mon Thu Sat Tue Thu \n",
      "2034: Sun Wed Wed Sat Mon Thu Sat Tue Fri Sun Wed Fri \n",
      "2035: Mon Thu Thu Sun Tue Fri Sun Wed Sat Mon Thu Sat \n",
      "2036: Tue Fri Sat Tue Thu Sun Tue Fri Mon Wed Sat Mon \n",
      "2037: Thu Sun Sun Wed Fri Mon Wed Sat Tue Thu Sun Tue \n",
      "2038: Fri Mon Mon Thu Sat Tue Thu Sun Wed Fri Mon Wed \n",
      "2039: Sat Tue Tue Fri Sun Wed Fri Mon Thu Sat Tue Thu \n",
      "2040: Sun Wed Thu Sun Tue Fri Sun Wed Sat Mon Thu Sat \n",
      "2041: Tue Fri Fri Mon Wed Sat Mon Thu Sun Tue Fri Sun \n",
      "2042: Wed Sat Sat Tue Thu Sun Tue Fri Mon Wed Sat Mon \n",
      "2043: Thu Sun Sun Wed Fri Mon Wed Sat Tue Thu Sun Tue \n",
      "2044: Fri Mon Tue Fri Sun Wed Fri Mon Thu Sat Tue Thu \n",
      "2045: Sun Wed Wed Sat Mon Thu Sat Tue Fri Sun Wed Fri \n",
      "2046: Mon Thu Thu Sun Tue Fri Sun Wed Sat Mon Thu Sat \n",
      "2047: Tue Fri Fri Mon Wed Sat Mon Thu Sun Tue Fri Sun \n",
      "2048: Wed Sat Sun Wed Fri Mon Wed Sat Tue Thu Sun Tue \n",
      "2049: Fri Mon Mon Thu Sat Tue Thu Sun Wed Fri Mon Wed \n",
      "2050: Sat Tue Tue Fri Sun Wed Fri Mon Thu Sat Tue Thu \n",
      "2051: Sun Wed Wed Sat Mon Thu Sat Tue Fri Sun Wed Fri \n",
      "2052: Mon Thu Fri Mon Wed Sat Mon Thu Sun Tue Fri Sun \n",
      "2053: Wed Sat Sat Tue Thu Sun Tue Fri Mon Wed Sat Mon \n",
      "2054: Thu Sun Sun Wed Fri Mon Wed Sat Tue Thu Sun Tue \n",
      "2055: Fri Mon Mon Thu Sat Tue Thu Sun Wed Fri Mon Wed \n",
      "2056: Sat Tue Wed Sat Mon Thu Sat Tue Fri Sun Wed Fri \n",
      "2057: Mon Thu Thu Sun Tue Fri Sun Wed Sat Mon Thu Sat \n",
      "2058: Tue Fri Fri Mon Wed Sat Mon Thu Sun Tue Fri Sun \n",
      "2059: Wed Sat Sat Tue Thu Sun Tue Fri Mon Wed Sat Mon \n",
      "2060: Thu Sun Mon Thu Sat Tue Thu Sun Wed Fri Mon Wed \n",
      "2061: Sat Tue Tue Fri Sun Wed Fri Mon Thu Sat Tue Thu \n",
      "2062: Sun Wed Wed Sat Mon Thu Sat Tue Fri Sun Wed Fri \n",
      "2063: Mon Thu Thu Sun Tue Fri Sun Wed Sat Mon Thu Sat \n",
      "2064: Tue Fri Sat Tue Thu Sun Tue Fri Mon Wed Sat Mon \n",
      "2065: Thu Sun Sun Wed Fri Mon Wed Sat Tue Thu Sun Tue \n",
      "2066: Fri Mon Mon Thu Sat Tue Thu Sun Wed Fri Mon Wed \n",
      "2067: Sat Tue Tue Fri Sun Wed Fri Mon Thu Sat Tue Thu \n",
      "2068: Sun Wed Thu Sun Tue Fri Sun Wed Sat Mon Thu Sat \n",
      "2069: Tue Fri Fri Mon Wed Sat Mon Thu Sun Tue Fri Sun \n",
      "2070: Wed Sat Sat Tue Thu Sun Tue Fri Mon Wed Sat Mon \n",
      "2071: Thu Sun Sun Wed Fri Mon Wed Sat Tue Thu Sun Tue \n",
      "2072: Fri Mon Tue Fri Sun Wed Fri Mon Thu Sat Tue Thu \n",
      "2073: Sun Wed Wed Sat Mon Thu Sat Tue Fri Sun Wed Fri \n",
      "2074: Mon Thu Thu Sun Tue Fri Sun Wed Sat Mon Thu Sat \n",
      "2075: Tue Fri Fri Mon Wed Sat Mon Thu Sun Tue Fri Sun \n",
      "2076: Wed Sat Sun Wed Fri Mon Wed Sat Tue Thu Sun Tue \n",
      "2077: Fri Mon Mon Thu Sat Tue Thu Sun Wed Fri Mon Wed \n",
      "2078: Sat Tue Tue Fri Sun Wed Fri Mon Thu Sat Tue Thu \n",
      "2079: Sun Wed Wed Sat Mon Thu Sat Tue Fri Sun Wed Fri \n",
      "2080: Mon Thu Fri Mon Wed Sat Mon Thu Sun Tue Fri Sun \n",
      "2081: Wed Sat Sat Tue Thu Sun Tue Fri Mon Wed Sat Mon \n",
      "2082: Thu Sun Sun Wed Fri Mon Wed Sat Tue Thu Sun Tue \n",
      "2083: Fri Mon Mon Thu Sat Tue Thu Sun Wed Fri Mon Wed \n",
      "2084: Sat Tue Wed Sat Mon Thu Sat Tue Fri Sun Wed Fri \n",
      "2085: Mon Thu Thu Sun Tue Fri Sun Wed Sat Mon Thu Sat \n",
      "2086: Tue Fri Fri Mon Wed Sat Mon Thu Sun Tue Fri Sun \n",
      "2087: Wed Sat Sat Tue Thu Sun Tue Fri Mon Wed Sat Mon \n",
      "2088: Thu Sun Mon Thu Sat Tue Thu Sun Wed Fri Mon Wed \n",
      "2089: Sat Tue Tue Fri Sun Wed Fri Mon Thu Sat Tue Thu \n",
      "2090: Sun Wed Wed Sat Mon Thu Sat Tue Fri Sun Wed Fri \n",
      "2091: Mon Thu Thu Sun Tue Fri Sun Wed Sat Mon Thu Sat \n",
      "2092: Tue Fri Sat Tue Thu Sun Tue Fri Mon Wed Sat Mon \n",
      "2093: Thu Sun Sun Wed Fri Mon Wed Sat Tue Thu Sun Tue \n",
      "2094: Fri Mon Mon Thu Sat Tue Thu Sun Wed Fri Mon Wed \n",
      "2095: Sat Tue Tue Fri Sun Wed Fri Mon Thu Sat Tue Thu \n",
      "2096: Sun Wed Thu Sun Tue Fri Sun Wed Sat Mon Thu Sat \n",
      "2097: Tue Fri Fri Mon Wed Sat Mon Thu Sun Tue Fri Sun \n",
      "2098: Wed Sat Sat Tue Thu Sun Tue Fri Mon Wed Sat Mon \n",
      "2099: Thu Sun Sun Wed Fri Mon Wed Sat Tue Thu Sun Tue \n"
     ]
    }
   ],
   "source": [
    "for year in range(2000, 2100):\n",
    "    line = f\"{year}: \"\n",
    "    for month in range(1, 13):\n",
    "        line += day_abbr[datetime(year, month, 1).weekday()] + ' '\n",
    "    print(line)"
   ]
  },
  {
   "cell_type": "code",
   "execution_count": 39,
   "metadata": {},
   "outputs": [
    {
     "name": "stdout",
     "output_type": "stream",
     "text": [
      "Wed Sat Sat Tue Thu Sun Tue Fri Mon Wed Sat Mon \n",
      "Mon Thu Thu Sun Tue Fri Sun Wed Sat Mon Thu Sat \n",
      "Sat Tue Wed Sat Mon Thu Sat Tue Fri Sun Wed Fri \n",
      "Fri Mon Mon Thu Sat Tue Thu Sun Wed Fri Mon Wed \n",
      "Wed Sat Sat Tue Thu Sun Tue Fri Mon Wed Sat Mon \n",
      "Mon Thu Thu Sun Tue Fri Sun Wed Sat Mon Thu Sat \n",
      "Sat Tue Wed Sat Mon Thu Sat Tue Fri Sun Wed Fri \n",
      "Fri Mon Mon Thu Sat Tue Thu Sun Wed Fri Mon Wed \n",
      "Wed Sat Sat Tue Thu Sun Tue Fri Mon Wed Sat Mon \n",
      "Mon Thu Thu Sun Tue Fri Sun Wed Sat Mon Thu Sat \n",
      "Sat Tue Wed Sat Mon Thu Sat Tue Fri Sun Wed Fri \n",
      "Fri Mon Mon Thu Sat Tue Thu Sun Wed Fri Mon Wed \n",
      "Wed Sat Sat Tue Thu Sun Tue Fri Mon Wed Sat Mon \n",
      "Mon Thu Thu Sun Tue Fri Sun Wed Sat Mon Thu Sat \n",
      "Sat Tue Wed Sat Mon Thu Sat Tue Fri Sun Wed Fri \n"
     ]
    }
   ],
   "source": [
    "for year in range(1000, 2401, 100):\n",
    "    line = \"\"\n",
    "    for month in range(1, 13):\n",
    "        line += day_abbr[datetime(year, month, 1).weekday()] + ' '\n",
    "    print(line)"
   ]
  },
  {
   "cell_type": "code",
   "execution_count": null,
   "metadata": {},
   "outputs": [],
   "source": []
  }
 ],
 "metadata": {
  "kernelspec": {
   "display_name": "Python 3",
   "language": "python",
   "name": "python3"
  },
  "language_info": {
   "codemirror_mode": {
    "name": "ipython",
    "version": 3
   },
   "file_extension": ".py",
   "mimetype": "text/x-python",
   "name": "python",
   "nbconvert_exporter": "python",
   "pygments_lexer": "ipython3",
   "version": "3.6.2"
  }
 },
 "nbformat": 4,
 "nbformat_minor": 4
}
