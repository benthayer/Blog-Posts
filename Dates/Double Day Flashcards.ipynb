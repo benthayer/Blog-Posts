{
 "cells": [
  {
   "cell_type": "markdown",
   "metadata": {},
   "source": [
    "### Generate date flashcards for Anki\n",
    "https://github.com/kerrickstaley/genanki"
   ]
  },
  {
   "cell_type": "code",
   "execution_count": 1,
   "metadata": {
    "collapsed": true
   },
   "outputs": [],
   "source": [
    "from datetime import date"
   ]
  },
  {
   "cell_type": "code",
   "execution_count": 2,
   "metadata": {},
   "outputs": [
    {
     "data": {
      "text/plain": [
       "2263097491"
      ]
     },
     "execution_count": 2,
     "metadata": {},
     "output_type": "execute_result"
    }
   ],
   "source": [
    "import random\n",
    "\n",
    "def get_id():\n",
    "    return random.randrange(1<<32)\n",
    "get_id()"
   ]
  },
  {
   "cell_type": "code",
   "execution_count": 35,
   "metadata": {},
   "outputs": [],
   "source": [
    "import genanki\n",
    "\n",
    "# Show any date from month with day\n",
    "# Show other date from month with blank day\n",
    "\n",
    "dday = genanki.Model(\n",
    "  get_id(),\n",
    "  'Double Day',\n",
    "  fields=[\n",
    "    {'name': 'Date1'},\n",
    "    {'name': 'Day1'},\n",
    "    {'name': 'Date2'},\n",
    "    {'name': 'Day2'},\n",
    "  ],\n",
    "  templates=[\n",
    "    {\n",
    "      'name': 'Double Day Card',\n",
    "      'qfmt': \"\"\"\n",
    "<div style=\"width:100%;text-align:center\">\n",
    "<div style=\"width:240px;display:inline-block\">\n",
    "\n",
    "<div style=\"width:100%;display:inline-block\">\n",
    "  <div style=\"width:150px;float:left;\" align=\"left\">{{Date1}}</div>\n",
    "  <div style=\"width:30%;float:right\" align=\"right\">{{Day1}}</div>\n",
    "  \n",
    "</div>\n",
    "<hr>\n",
    "\n",
    "<div style=\"width:100%;display:inline-block\">\n",
    "  <div style=\"width:150px;float:left;\" align=\"left\">{{Date2}}</div>\n",
    "  <div style=\"width:30%;float:right\" align=\"right\"></div>\n",
    "</div>\n",
    "\n",
    "</div>\n",
    "</div>\"\"\",\n",
    "      'afmt': \"\"\"\n",
    "<div style=\"width:100%;text-align:center\">\n",
    "<div style=\"width:240px;display:inline-block\">\n",
    "\n",
    "<div style=\"width:100%;display:inline-block\">\n",
    "  <div style=\"width:150px;float:left;\" align=\"left\">{{Date1}}</div>\n",
    "  <div style=\"width:30%;float:right\" align=\"right\">{{Day1}}</div>\n",
    "  \n",
    "</div>\n",
    "<hr>\n",
    "\n",
    "<div style=\"width:100%;display:inline-block\">\n",
    "  <div style=\"width:150px;float:left;\" align=\"left\">{{Date2}}</div>\n",
    "  <div style=\"width:30%;float:right\" align=\"right\">{{Day2}}</div>\n",
    "</div>\n",
    "\n",
    "</div>\n",
    "</div>\"\"\"\n",
    "    },\n",
    "  ]\n",
    ")\n",
    "\n",
    "def make_deck(cards, name):\n",
    "    # Cards is a list of fields\n",
    "    deck = genanki.Deck(get_id(), name)\n",
    "    \n",
    "    for card in cards:\n",
    "        note = genanki.Note(\n",
    "            model=dday,\n",
    "            fields=card\n",
    "        )\n",
    "        deck.add_note(note)\n",
    "    \n",
    "    return deck\n",
    "\n",
    "def write_decks(decks, name='dates'):\n",
    "    genanki.Package(decks).write_to_file(f'{name}.apkg')"
   ]
  },
  {
   "cell_type": "code",
   "execution_count": 36,
   "metadata": {
    "collapsed": true
   },
   "outputs": [],
   "source": [
    "def write_deck(deck):\n",
    "    genanki.Package([deck]).write_to_file(f'doubledates.apkg')\n",
    "\n",
    "write_deck(make_double_deck())"
   ]
  },
  {
   "cell_type": "code",
   "execution_count": 31,
   "metadata": {},
   "outputs": [
    {
     "data": {
      "text/plain": [
       "2"
      ]
     },
     "execution_count": 31,
     "metadata": {},
     "output_type": "execute_result"
    }
   ],
   "source": [
    "date(2019, 8, 28).weekday()"
   ]
  },
  {
   "cell_type": "code",
   "execution_count": 18,
   "metadata": {
    "collapsed": true
   },
   "outputs": [],
   "source": [
    "import random\n",
    "from datetime import datetime, timedelta\n",
    "from calendar import monthrange, month_name\n",
    "\n",
    "def make_double_deck(n=11000):\n",
    "    year = 2019\n",
    "    \n",
    "    cards = []\n",
    "    \n",
    "    for i in range(n):\n",
    "        month = random.choice(range(12)) + 1\n",
    "        max_day = monthrange(year, month)[1]\n",
    "        day = random.choice(range(max_day)) + 1\n",
    "        \n",
    "        reference_day = day\n",
    "        while day == reference_day:\n",
    "            reference_day = random.choice(range(max_day)) + 1\n",
    "        \n",
    "        month_str = month_name[month]\n",
    "        reference_day_str = date(year, month, reference_day).strftime('%A')\n",
    "        day_str = date(year, month, day).strftime('%A')\n",
    "        cards.append((\n",
    "            f\"{month_str} {reference_day}, {year}\",\n",
    "            f\"{reference_day_str}\",\n",
    "            f\"{month_str} {day}, {year}\",\n",
    "            f\"{day_str}\",\n",
    "            \n",
    "        ))\n",
    "    \n",
    "    return make_deck(cards, \"Doubles\")"
   ]
  },
  {
   "cell_type": "code",
   "execution_count": 7,
   "metadata": {},
   "outputs": [
    {
     "data": {
      "text/plain": [
       "'Thursday'"
      ]
     },
     "execution_count": 7,
     "metadata": {},
     "output_type": "execute_result"
    }
   ],
   "source": [
    "date(2019, 9, 26).strftime(\"%A\")"
   ]
  },
  {
   "cell_type": "code",
   "execution_count": 9,
   "metadata": {
    "collapsed": true
   },
   "outputs": [],
   "source": [
    "write_decks([make_month_deck(9)], 'September')"
   ]
  },
  {
   "cell_type": "code",
   "execution_count": 24,
   "metadata": {
    "collapsed": true
   },
   "outputs": [],
   "source": [
    "write_decks([make_double_deck([i + 1 for i in range (12)])])"
   ]
  },
  {
   "cell_type": "code",
   "execution_count": 3,
   "metadata": {},
   "outputs": [
    {
     "name": "stdout",
     "output_type": "stream",
     "text": [
      "1\n",
      "4\n",
      "4\n",
      "0\n",
      "2\n",
      "5\n",
      "0\n",
      "3\n",
      "6\n",
      "1\n",
      "4\n",
      "6\n"
     ]
    }
   ],
   "source": [
    "from datetime import date\n",
    "for i in range(12):\n",
    "    a = date(2019, i + 1, 1)\n",
    "    print(a.weekday())"
   ]
  },
  {
   "cell_type": "code",
   "execution_count": null,
   "metadata": {
    "collapsed": true
   },
   "outputs": [],
   "source": []
  }
 ],
 "metadata": {
  "kernelspec": {
   "display_name": "Python 3",
   "language": "python",
   "name": "python3"
  },
  "language_info": {
   "codemirror_mode": {
    "name": "ipython",
    "version": 3
   },
   "file_extension": ".py",
   "mimetype": "text/x-python",
   "name": "python",
   "nbconvert_exporter": "python",
   "pygments_lexer": "ipython3",
   "version": "3.6.2"
  }
 },
 "nbformat": 4,
 "nbformat_minor": 2
}
