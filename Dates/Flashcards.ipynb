{
 "cells": [
  {
   "cell_type": "markdown",
   "metadata": {},
   "source": [
    "### Generate date flashcards for Anki\n",
    "https://github.com/kerrickstaley/genanki"
   ]
  },
  {
   "cell_type": "code",
   "execution_count": 1,
   "metadata": {},
   "outputs": [
    {
     "data": {
      "text/plain": [
       "1270607229"
      ]
     },
     "execution_count": 1,
     "metadata": {},
     "output_type": "execute_result"
    }
   ],
   "source": [
    "import random\n",
    "\n",
    "def get_id():\n",
    "    return random.randrange(1<<32)\n",
    "get_id()"
   ]
  },
  {
   "cell_type": "code",
   "execution_count": 2,
   "metadata": {},
   "outputs": [],
   "source": [
    "import genanki\n",
    "\n",
    "front_back = genanki.Model(\n",
    "  get_id(),\n",
    "  'Front Back Model',\n",
    "  fields=[\n",
    "    {'name': 'Front'},\n",
    "    {'name': 'Back'},\n",
    "  ],\n",
    "  templates=[\n",
    "    {\n",
    "      'name': 'Card',\n",
    "      'qfmt': '{{Front}}',\n",
    "      'afmt': '{{Back}}',\n",
    "    },\n",
    "  ]\n",
    ")\n",
    "\n",
    "def make_deck(cards, name):\n",
    "    # Cards is a list of fields\n",
    "    deck = genanki.Deck(get_id(), name)\n",
    "    \n",
    "    for card in cards:\n",
    "        note = genanki.Note(\n",
    "            model=front_back,\n",
    "            fields=card\n",
    "        )\n",
    "        deck.add_note(note)\n",
    "    \n",
    "    return deck\n",
    "\n",
    "def write_decks(decks, name):\n",
    "    genanki.Package(decks).write_to_file(f'{name}.apkg')"
   ]
  },
  {
   "cell_type": "code",
   "execution_count": 10,
   "metadata": {},
   "outputs": [],
   "source": [
    "presidents = [    \n",
    "    \"George Washington\",\n",
    "    \"John Adams\",\n",
    "    \"Thomas Jefferson\",\n",
    "    \"James Madison\",\n",
    "    \"James Monroe\",\n",
    "    \"John Quincy Adams\",\n",
    "    \"Andrew Jackson\",\n",
    "    \"Martin Van Buren\",\n",
    "    \"William Henry Harrison\",\n",
    "    \"John Tyler\",\n",
    "    \"James K. Polk\",\n",
    "    \"Zachary Taylor\",\n",
    "    \"Millard Fillmore\",\n",
    "    \"Franklin Pierce\",\n",
    "    \"James Buchanan\",\n",
    "    \"Abraham Lincoln\",\n",
    "    \"Andrew Johnson\",\n",
    "    \"Ulysses S. Grant\",\n",
    "    \"Rutherford B. Hayes\",\n",
    "    \"James A. Garfield\",\n",
    "    \"Chester A. Arthur\",\n",
    "    \"Grover Cleaveland (First term)\",\n",
    "    \"Benjamin Harrison\",\n",
    "    \"Grover Cleaveland (Second term)\",\n",
    "    \"William McKinley\",\n",
    "    \"Theodore Roosevelt\",\n",
    "    \"William Howard Taft\",\n",
    "    \"Woodrow Wilson\",\n",
    "    \"Warren G. Harding\",\n",
    "    \"Calvin Coolidge\",\n",
    "    \"Herbert Hoover\",\n",
    "    \"Franklin D. Roosevelt\",\n",
    "    \"Harry S. Truman\",\n",
    "    \"Dwight D. Eisenhower\",\n",
    "    \"John F. Kennedy\",\n",
    "    \"Lyndon B. Johnson\",\n",
    "    \"Richard Nixon\",\n",
    "    \"Gerald Ford\",\n",
    "    \"Jimmy Carter\",\n",
    "    \"Ronald Reagan\",\n",
    "    \"George H. W. Bush\",\n",
    "    \"Bill Clinton\",\n",
    "    \"George W. Bush\",\n",
    "    \"Barack Obama\",\n",
    "    \"Donald Trump\",\n",
    "]"
   ]
  },
  {
   "cell_type": "code",
   "execution_count": 11,
   "metadata": {},
   "outputs": [],
   "source": [
    "def ordinal(n):\n",
    "    s = str(n)\n",
    "    if 10 < n < 20:\n",
    "        s += 'th'\n",
    "    elif n % 10 == 1:\n",
    "        s += 'st'\n",
    "    elif n % 10 == 2:\n",
    "        s += 'nd'\n",
    "    elif n % 10 == 3:\n",
    "        s += 'rd'\n",
    "    else:\n",
    "        s += 'th'\n",
    "    return s\n",
    "\n",
    "def ordgen():\n",
    "    i = 1\n",
    "    while True:\n",
    "        yield ordinal(i)\n",
    "        i += 1\n",
    "name_first = []\n",
    "num_first = []\n",
    "for name, num in zip(presidents, ordgen()):\n",
    "    card = [name, num]\n",
    "    card2 = [num, name]\n",
    "    name_first.append(card)\n",
    "    num_first.append(card2)\n"
   ]
  },
  {
   "cell_type": "code",
   "execution_count": null,
   "metadata": {},
   "outputs": [],
   "source": [
    "name_first"
   ]
  },
  {
   "cell_type": "code",
   "execution_count": null,
   "metadata": {},
   "outputs": [],
   "source": [
    "import random\n",
    "from IPython.display import clear_output\n",
    "while True:\n",
    "    clear_output()\n",
    "    x, y = random.choice(name_first)\n",
    "    if input(x) != '':\n",
    "        break\n",
    "    if input(y) != '':\n",
    "        break"
   ]
  },
  {
   "cell_type": "code",
   "execution_count": 13,
   "metadata": {},
   "outputs": [],
   "source": [
    "write_decks([make_deck(name_first, 'Name first'), make_deck(num_first, 'Number first')], 'presidents')"
   ]
  },
  {
   "cell_type": "code",
   "execution_count": null,
   "metadata": {},
   "outputs": [],
   "source": []
  }
 ],
 "metadata": {
  "kernelspec": {
   "display_name": "Python 3",
   "language": "python",
   "name": "python3"
  },
  "language_info": {
   "codemirror_mode": {
    "name": "ipython",
    "version": 3
   },
   "file_extension": ".py",
   "mimetype": "text/x-python",
   "name": "python",
   "nbconvert_exporter": "python",
   "pygments_lexer": "ipython3",
   "version": "3.7.3"
  }
 },
 "nbformat": 4,
 "nbformat_minor": 2
}
