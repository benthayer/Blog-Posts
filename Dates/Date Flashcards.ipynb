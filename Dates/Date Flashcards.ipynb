{
 "cells": [
  {
   "cell_type": "markdown",
   "metadata": {},
   "source": [
    "### Generate date flashcards for Anki\n",
    "https://github.com/kerrickstaley/genanki"
   ]
  },
  {
   "cell_type": "code",
   "execution_count": 1,
   "metadata": {},
   "outputs": [],
   "source": [
    "from datetime import date"
   ]
  },
  {
   "cell_type": "code",
   "execution_count": 2,
   "metadata": {},
   "outputs": [
    {
     "data": {
      "text/plain": [
       "522800796"
      ]
     },
     "execution_count": 2,
     "metadata": {},
     "output_type": "execute_result"
    }
   ],
   "source": [
    "import random\n",
    "\n",
    "def get_id():\n",
    "    return random.randrange(1<<32)\n",
    "get_id()"
   ]
  },
  {
   "cell_type": "code",
   "execution_count": 22,
   "metadata": {},
   "outputs": [],
   "source": [
    "import genanki\n",
    "\n",
    "front_back = genanki.Model(\n",
    "  get_id(),\n",
    "  'Front Back Model',\n",
    "  fields=[\n",
    "    {'name': 'Date'},\n",
    "    {'name': 'Day'},\n",
    "  ],\n",
    "  templates=[\n",
    "    {\n",
    "      'name': 'Date Card',\n",
    "      'qfmt': '{{Date}}',\n",
    "      'afmt': '{{Day}}',\n",
    "    },\n",
    "  ]\n",
    ")\n",
    "\n",
    "def make_deck(cards, name):\n",
    "    # Cards is a list of fields\n",
    "    deck = genanki.Deck(get_id(), name)\n",
    "    \n",
    "    for card in cards:\n",
    "        note = genanki.Note(\n",
    "            model=front_back,\n",
    "            fields=card\n",
    "        )\n",
    "        deck.add_note(note)\n",
    "    \n",
    "    return deck\n",
    "\n",
    "def write_decks(decks, name='dates'):\n",
    "    genanki.Package(decks).write_to_file(f'{name}.apkg')"
   ]
  },
  {
   "cell_type": "code",
   "execution_count": 5,
   "metadata": {},
   "outputs": [
    {
     "data": {
      "text/plain": [
       "2"
      ]
     },
     "execution_count": 5,
     "metadata": {},
     "output_type": "execute_result"
    }
   ],
   "source": [
    "date(2019, 8, 28).weekday()"
   ]
  },
  {
   "cell_type": "code",
   "execution_count": null,
   "metadata": {},
   "outputs": [],
   "source": [
    "import calendar\n",
    "\n",
    "def make_august_weekday_deck(days_string):\n",
    "    wkday_map = {\n",
    "        'M': 0,\n",
    "        'T': 1,\n",
    "        'W': 2,\n",
    "        'R': 3, \n",
    "        'F': 4, \n",
    "        'S': 5,\n",
    "        'U': 6\n",
    "    }\n",
    "    \n",
    "    days = sorted([wkday_map[day] for day in days_string])\n",
    "    \n",
    "    names = [calendar.day_abbr[i] for i in days]\n",
    "    name = 'August, 2019 (' + ', '.join(names) + ')'\n",
    "    \n",
    "    cards = []\n",
    "    for i in range(31):\n",
    "        day = date(2019, 8, i+1)\n",
    "        if day.weekday() not in days:\n",
    "            continue\n",
    "        date_string = day.strftime('%B %d, %Y')\n",
    "        day_string = day.strftime('%A')\n",
    "        cards.append([date_string, day_string])\n",
    "        \n",
    "    return make_deck(cards, name)"
   ]
  },
  {
   "cell_type": "code",
   "execution_count": 6,
   "metadata": {},
   "outputs": [],
   "source": [
    "def make_august_decks():\n",
    "    \n",
    "    schedule = 'MRSWUTF'\n",
    "    \n",
    "    decks = []\n",
    "    \n",
    "    for i in range(1, len(schedule)):\n",
    "        decks.append(make_august_weekday_deck(schedule[0:i+1]))\n",
    "        \n",
    "    write_decks(decks, 'August')"
   ]
  },
  {
   "cell_type": "code",
   "execution_count": 7,
   "metadata": {},
   "outputs": [],
   "source": [
    "make_august_decks()"
   ]
  },
  {
   "cell_type": "code",
   "execution_count": 23,
   "metadata": {},
   "outputs": [],
   "source": [
    "from calendar import monthrange\n",
    "def make_month_deck(month, year=2019):\n",
    "    \n",
    "    name = date(year, month, 1).strftime('%B, %Y')\n",
    "    \n",
    "    cards = []\n",
    "    for i in range(monthrange(2019, month)[1]):\n",
    "        day = date(2019, month, i+1)\n",
    "        date_string = day.strftime('%B %d, %Y')\n",
    "        day_string = day.strftime('%A')\n",
    "        cards.append([date_string, day_string])\n",
    "        \n",
    "    return make_deck(cards, name)\n",
    "\n",
    "def make_months_deck(months, year=2019):\n",
    "    \n",
    "    name = ', '.join([date(year, month, 1).strftime('%B') for month in months]) + date(year, 1, 1).strftime(' - %Y')\n",
    "    \n",
    "    cards = []\n",
    "    for month in months:\n",
    "        for i in range(monthrange(2019, month)[1]):\n",
    "            day = date(2019, month, i+1)\n",
    "            date_string = day.strftime('%B %d, %Y')\n",
    "            day_string = day.strftime('%A')\n",
    "            cards.append([date_string, day_string])\n",
    "        \n",
    "    return make_deck(cards, name)"
   ]
  },
  {
   "cell_type": "code",
   "execution_count": 9,
   "metadata": {},
   "outputs": [],
   "source": [
    "write_decks([make_month_deck(9)], 'September')"
   ]
  },
  {
   "cell_type": "code",
   "execution_count": 24,
   "metadata": {},
   "outputs": [],
   "source": [
    "write_decks([make_months_deck([8, 9])], 'Aug,Sept')"
   ]
  },
  {
   "cell_type": "code",
   "execution_count": null,
   "metadata": {},
   "outputs": [],
   "source": []
  }
 ],
 "metadata": {
  "kernelspec": {
   "display_name": "Python 3",
   "language": "python",
   "name": "python3"
  },
  "language_info": {
   "codemirror_mode": {
    "name": "ipython",
    "version": 3
   },
   "file_extension": ".py",
   "mimetype": "text/x-python",
   "name": "python",
   "nbconvert_exporter": "python",
   "pygments_lexer": "ipython3",
   "version": "3.6.2"
  }
 },
 "nbformat": 4,
 "nbformat_minor": 4
}
